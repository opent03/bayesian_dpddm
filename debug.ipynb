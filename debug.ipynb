{
 "cells": [
  {
   "cell_type": "code",
   "execution_count": 1,
   "metadata": {},
   "outputs": [],
   "source": [
    "%load_ext autoreload\n",
    "%autoreload 2"
   ]
  },
  {
   "cell_type": "code",
   "execution_count": 2,
   "metadata": {},
   "outputs": [],
   "source": [
    "import vbll\n",
    "from vbll.layers.classification import HetClassification\n",
    "\n",
    "import os\n",
    "os.environ['CUDA_LAUNCH_BLOCKING'] = \"0\"\n",
    "\n",
    "import torch\n",
    "import torch.nn as nn\n",
    "import torch.nn.functional as F\n",
    "import numpy as np\n",
    "from dataclasses import dataclass\n",
    "\n",
    "from torch.utils.data import DataLoader\n",
    "import torchvision.datasets as datasets\n",
    "from torch.utils.data import Dataset\n",
    "from torchvision.transforms import ToTensor\n",
    "from torchvision import transforms\n",
    "from PIL import Image\n",
    "\n",
    "import matplotlib.pyplot as pltw\n",
    "from sklearn import metrics\n",
    "\n",
    "from tqdm import tqdm\n",
    "from matplotlib.pyplot import cm\n",
    "import matplotlib.pyplot as plt \n",
    "%config InlineBackend.figure_format = 'retina'\n",
    "floatX = torch.float32\n",
    "RANDOM_SEED = 9927\n",
    "rng = np.random.default_rng(RANDOM_SEED)\n",
    "np.random.seed(RANDOM_SEED)\n",
    "torch.random.manual_seed(RANDOM_SEED)\n",
    "import torchvision\n",
    "from torchvision.transforms import v2\n",
    "device = torch.device('cuda' if torch.cuda.is_available() else 'cpu')"
   ]
  },
  {
   "cell_type": "code",
   "execution_count": 3,
   "metadata": {},
   "outputs": [],
   "source": [
    "from bayesian_dpddm import DPDDM_Bayesian_Monitor, CNN_DPDDM_Model\n",
    "import torch\n",
    "torch.backends.cudnn.benchmark = True"
   ]
  },
  {
   "cell_type": "code",
   "execution_count": 4,
   "metadata": {},
   "outputs": [],
   "source": [
    "train_transforms = v2.Compose([\n",
    "    v2.RandomHorizontalFlip(p=0.5),\n",
    "    v2.RandomCrop(size=[32,32], padding=4),\n",
    "    v2.ToImage(),\n",
    "    v2.ToDtype(torch.float32, scale=True),\n",
    "    v2.Normalize(mean=[0.4914, 0.4822, 0.4465], std=[0.247, 0.243, 0.261]),\n",
    "])\n",
    "test_transforms = v2.Compose([\n",
    "    v2.ToImage(),\n",
    "    v2.ToDtype(torch.float32, scale=True),\n",
    "    v2.Normalize(mean=[0.4914, 0.4822, 0.4465], std=[0.247, 0.243, 0.261]),\n",
    "])"
   ]
  },
  {
   "cell_type": "code",
   "execution_count": 5,
   "metadata": {},
   "outputs": [
    {
     "name": "stdout",
     "output_type": "stream",
     "text": [
      "Files already downloaded and verified\n",
      "Files already downloaded and verified\n"
     ]
    }
   ],
   "source": [
    "cifar10train = torchvision.datasets.CIFAR10(root='data/', \n",
    "                                            transform=train_transforms,\n",
    "                                            download=True)\n",
    "cifar10test = torchvision.datasets.CIFAR10(root='data/', \n",
    "                                           train=False, \n",
    "                                           transform=test_transforms,\n",
    "                                           download=True)"
   ]
  },
  {
   "cell_type": "code",
   "execution_count": 6,
   "metadata": {},
   "outputs": [],
   "source": [
    "class CIFAR101Dataset(torch.utils.data.Dataset):\n",
    "    def __init__(self, X, y):\n",
    "        self.X = X\n",
    "        self.y = y\n",
    "    \n",
    "    def __getitem__(self, idx):\n",
    "        return self.X[idx], self.y[idx]\n",
    "    \n",
    "    def __len__(self):\n",
    "        return len(self.y)"
   ]
  },
  {
   "cell_type": "code",
   "execution_count": 7,
   "metadata": {},
   "outputs": [],
   "source": [
    "with open('data/cifar10.1_v6_data.npy', 'rb') as f:\n",
    "    ood_data = np.load(f)\n",
    "with open('data/cifar10.1_v6_labels.npy', 'rb') as f:\n",
    "    ood_labels = np.load(f)"
   ]
  },
  {
   "cell_type": "code",
   "execution_count": 8,
   "metadata": {},
   "outputs": [],
   "source": [
    "norm_mean=[0.4914, 0.4822, 0.4465]\n",
    "norm_std=[0.247, 0.243, 0.261]\n",
    "transformed101data = torch.zeros(size=(len(ood_data), 3, 32, 32))\n",
    "for idx in range(len(ood_data)):\n",
    "    transformed101data[idx] = test_transforms(ood_data[idx])\n",
    "transformed101labels = torch.as_tensor(ood_labels, dtype=torch.long)\n",
    "dataset101 = CIFAR101Dataset(transformed101data, transformed101labels)"
   ]
  },
  {
   "cell_type": "code",
   "execution_count": 9,
   "metadata": {},
   "outputs": [],
   "source": [
    "class train_cfg:\n",
    "    NUM_EPOCHS = 2\n",
    "    BATCH_SIZE = 64\n",
    "    LR = 1e-3\n",
    "    WD = 1e-4\n",
    "    OPTIMIZER = torch.optim.AdamW\n",
    "    CLIP_VAL = 1\n",
    "    VAL_FREQ = 1\n",
    "    VBLL = True\n",
    "    \n",
    "class cfg:\n",
    "    IN_CHANNELS = 3\n",
    "    MID_CHANNELS = 64\n",
    "    OUT_FEATURES = 10\n",
    "    KERNEL_SIZE = 3\n",
    "    MID_LAYERS = 3\n",
    "    POOL_DIMS = 2\n",
    "    FLATTEN_DIM = 3136\n",
    "    HIDDEN_DIM = 256\n",
    "    DROPOUT = 0.2\n",
    "    REG_WEIGHT = 1/len(cifar10train) * 10\n",
    "    PARAM = 'diagonal'\n",
    "    RETURN_OOD = False\n",
    "    PRIOR_SCALE = 1\n",
    "    WISHART_SCALE=1"
   ]
  },
  {
   "cell_type": "code",
   "execution_count": 10,
   "metadata": {},
   "outputs": [],
   "source": [
    "device = torch.device('cuda' if torch.cuda.is_available() else 'cpu')\n",
    "base_model = CNN_DPDDM_Model(cfg())\n",
    "monitor = DPDDM_Bayesian_Monitor(\n",
    "    model=base_model,\n",
    "    trainset=cifar10train,\n",
    "    valset=cifar10test,\n",
    "    train_cfg=train_cfg(),\n",
    "    device=device,\n",
    ")"
   ]
  },
  {
   "cell_type": "code",
   "execution_count": 11,
   "metadata": {},
   "outputs": [
    {
     "name": "stderr",
     "output_type": "stream",
     "text": [
      " 50%|█████     | 1/2 [00:10<00:10, 10.48s/it]"
     ]
    },
    {
     "name": "stdout",
     "output_type": "stream",
     "text": [
      "Epoch:  0, train loss: 3.8117\n",
      "Epoch:  0, valid loss: 1.3498\n"
     ]
    },
    {
     "name": "stderr",
     "output_type": "stream",
     "text": [
      "100%|██████████| 2/2 [00:20<00:00, 10.34s/it]\n"
     ]
    },
    {
     "data": {
      "text/plain": [
       "{'train_loss': [3.8116511201004846, 2.748416807950305],\n",
       " 'val_loss': [1.3497511186417501, 1.1569332875263918],\n",
       " 'train_acc': [0.3376358695652174, 0.47546355498721227],\n",
       " 'val_acc': [0.5022890127388535, 0.5847929936305732],\n",
       " 'ood_auroc': []}"
      ]
     },
     "execution_count": 11,
     "metadata": {},
     "output_type": "execute_result"
    }
   ],
   "source": [
    "# Train base model\n",
    "monitor.train_model(tqdm_enabled=True)"
   ]
  },
  {
   "cell_type": "code",
   "execution_count": 12,
   "metadata": {},
   "outputs": [
    {
     "name": "stderr",
     "output_type": "stream",
     "text": [
      "100%|██████████| 10/10 [00:01<00:00,  7.97it/s]\n"
     ]
    }
   ],
   "source": [
    "monitor.pretrain_disagreement_distribution(\n",
    "    cifar10test,\n",
    "    Phi_size=10,\n",
    ")"
   ]
  },
  {
   "cell_type": "code",
   "execution_count": 27,
   "metadata": {},
   "outputs": [
    {
     "name": "stderr",
     "output_type": "stream",
     "text": [
      "  0%|          | 0/100 [00:00<?, ?it/s]"
     ]
    },
    {
     "name": "stderr",
     "output_type": "stream",
     "text": [
      "100%|██████████| 100/100 [00:15<00:00,  6.37it/s]\n"
     ]
    },
    {
     "name": "stdout",
     "output_type": "stream",
     "text": [
      "cifar10-train: 0.88\n"
     ]
    },
    {
     "name": "stderr",
     "output_type": "stream",
     "text": [
      "100%|██████████| 100/100 [00:11<00:00,  8.86it/s]\n"
     ]
    },
    {
     "name": "stdout",
     "output_type": "stream",
     "text": [
      "cifar10-test: 0.12\n"
     ]
    },
    {
     "name": "stderr",
     "output_type": "stream",
     "text": [
      "100%|██████████| 100/100 [00:02<00:00, 33.94it/s]"
     ]
    },
    {
     "name": "stdout",
     "output_type": "stream",
     "text": [
      "cifar10.1: 1.0\n"
     ]
    },
    {
     "name": "stderr",
     "output_type": "stream",
     "text": [
      "\n"
     ]
    }
   ],
   "source": [
    "for k,v in {\n",
    "    'cifar10-train': cifar10train,\n",
    "    'cifar10-test': cifar10test,\n",
    "    'cifar10.1': dataset101\n",
    "}.items():\n",
    "    tpr, _ = monitor.repeat_tests(v, n_repeats=100)\n",
    "    print(f\"{k}: {tpr}\")"
   ]
  },
  {
   "cell_type": "code",
   "execution_count": null,
   "metadata": {},
   "outputs": [],
   "source": []
  }
 ],
 "metadata": {
  "kernelspec": {
   "display_name": "bayes",
   "language": "python",
   "name": "python3"
  },
  "language_info": {
   "codemirror_mode": {
    "name": "ipython",
    "version": 3
   },
   "file_extension": ".py",
   "mimetype": "text/x-python",
   "name": "python",
   "nbconvert_exporter": "python",
   "pygments_lexer": "ipython3",
   "version": "3.11.11"
  }
 },
 "nbformat": 4,
 "nbformat_minor": 2
}
